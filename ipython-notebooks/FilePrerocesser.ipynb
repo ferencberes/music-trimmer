{
 "cells": [
  {
   "cell_type": "code",
   "execution_count": 1,
   "metadata": {
    "collapsed": true
   },
   "outputs": [],
   "source": [
    "import sys, os\n",
    "import subprocess\n",
    "import threading\n",
    "\n",
    "sys.path.insert(0,\"../scripts\")\n",
    "import silence_splitter as ss"
   ]
  },
  {
   "cell_type": "code",
   "execution_count": 2,
   "metadata": {
    "collapsed": true
   },
   "outputs": [],
   "source": [
    "root_dir = '../tmp/'"
   ]
  },
  {
   "cell_type": "code",
   "execution_count": null,
   "metadata": {
    "collapsed": false
   },
   "outputs": [],
   "source": [
    "relative_file_paths = []\n",
    "for root, dirs, files in os.walk(root_dir):\n",
    "    for file in files:\n",
    "        if file.endswith(\".mp3\"):\n",
    "        \trelative_file_paths.append(os.path.join(root, file))"
   ]
  },
  {
   "cell_type": "code",
   "execution_count": null,
   "metadata": {
    "collapsed": false
   },
   "outputs": [],
   "source": [
    "print relative_file_paths"
   ]
  },
  {
   "cell_type": "code",
   "execution_count": null,
   "metadata": {
    "collapsed": true
   },
   "outputs": [],
   "source": [
    "subs_map = {}\n",
    "subs_map[' '] = '_'\n",
    "subs_map['á'] = 'a'\n",
    "subs_map['é'] = 'e'\n",
    "subs_map['í'] = 'i'\n",
    "subs_map['ó'] = 'o'\n",
    "subs_map['ö'] = 'o'\n",
    "subs_map['ő'] = 'o'\n",
    "subs_map['ú'] = 'u'\n",
    "subs_map['ü'] = 'u'\n",
    "subs_map['ű'] = 'u'\n",
    "\n",
    "def generate_new_path(text, old_root, new_root):\n",
    "    new_text = text.replace(old_root, new_root)\n",
    "    new_text = str.lower(new_text)\n",
    "    for val in subs_map:\n",
    "        new_text = new_text.replace(val,subs_map[val])\n",
    "    return new_text"
   ]
  },
  {
   "cell_type": "code",
   "execution_count": null,
   "metadata": {
    "collapsed": false
   },
   "outputs": [],
   "source": [
    "new_relative_file_paths = []\n",
    "for path in relative_file_paths:\n",
    "    new_relative_file_paths.append(generate_new_path(path,'tmp','tmp_subs'))"
   ]
  },
  {
   "cell_type": "code",
   "execution_count": null,
   "metadata": {
    "collapsed": false
   },
   "outputs": [],
   "source": [
    "#print new_relative_file_paths"
   ]
  },
  {
   "cell_type": "code",
   "execution_count": null,
   "metadata": {
    "collapsed": false
   },
   "outputs": [],
   "source": [
    "for i in xrange(len(relative_file_paths)):\n",
    "    f_name = new_relative_file_paths[i].split(\"/\")[-1]\n",
    "    mkdir_command = 'mkdir -p %s' % new_relative_file_paths[i][0:-len(f_name)]\n",
    "    subprocess.call(mkdir_command.split(' '))\n",
    "    subprocess.call(['cp',relative_file_paths[i],new_relative_file_paths[i]])"
   ]
  },
  {
   "cell_type": "code",
   "execution_count": null,
   "metadata": {
    "collapsed": false
   },
   "outputs": [],
   "source": [
    "max_num_parallel = 4\n",
    "\n",
    "min_silence_length = 500\n",
    "silence_threshold = 26\n",
    "\n",
    "threads = []\n",
    "for i in xrange(len(new_relative_file_paths)):\n",
    "    threads.append(threading.Thread(target=ss.split_song, args=(new_relative_file_paths[i],min_silence_length,silence_threshold)))\n",
    "    \n",
    "#threads = threads[0:8]\n",
    "all_thread_num = len(threads)\n",
    "    \n",
    "thread_index = 0\n",
    "while thread_index < all_thread_num:\n",
    "    upper_index = min(thread_index+max_num_parallel, all_thread_num)\n",
    "    tmp_threads = threads[thread_index:upper_index]\n",
    "    print thread_index, upper_index\n",
    "    for th in tmp_threads:\n",
    "        th.start()\n",
    "    for th in tmp_threads:\n",
    "        th.join()\n",
    "    \n",
    "    thread_index += max_num_parallel\n"
   ]
  },
  {
   "cell_type": "code",
   "execution_count": null,
   "metadata": {
    "collapsed": true
   },
   "outputs": [],
   "source": []
  }
 ],
 "metadata": {
  "kernelspec": {
   "display_name": "Python 2",
   "language": "python",
   "name": "python2"
  },
  "language_info": {
   "codemirror_mode": {
    "name": "ipython",
    "version": 2
   },
   "file_extension": ".py",
   "mimetype": "text/x-python",
   "name": "python",
   "nbconvert_exporter": "python",
   "pygments_lexer": "ipython2",
   "version": "2.7.6"
  }
 },
 "nbformat": 4,
 "nbformat_minor": 0
}
